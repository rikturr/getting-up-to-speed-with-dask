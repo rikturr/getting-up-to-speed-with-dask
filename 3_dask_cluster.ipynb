{
 "cells": [
  {
   "cell_type": "markdown",
   "metadata": {},
   "source": [
    "# Getting up to speed with Dask\n",
    "\n",
    "## Part 3: Scale up!\n",
    "\n",
    "We will do the same analysis as Part 1 & 2 but now with a Dask cluster!\n",
    "\n",
    "AWS EC2 instance types\n",
    "- (notebook): r5.xlarge (2 CPU, 16GB RAM)\n",
    "- (10 workers): r5.2xlarge (8 CPU, 64GB RAM)\n",
    "\n",
    "\n",
    "We are running in [Saturn Cloud](https://www.saturncloud.io/) so we are using a `SaturnCluster`, but Dask supports many other cluster deployment tools such as [YARN](https://yarn.dask.org/en/latest/) or [Kubernetes](https://docs.dask.org/en/latest/setup/kubernetes.html)"
   ]
  },
  {
   "cell_type": "code",
   "execution_count": 17,
   "metadata": {
    "execution": {
     "iopub.execute_input": "2021-04-08T20:23:16.070548Z",
     "iopub.status.busy": "2021-04-08T20:23:16.070189Z",
     "iopub.status.idle": "2021-04-08T20:23:16.076931Z",
     "shell.execute_reply": "2021-04-08T20:23:16.076231Z",
     "shell.execute_reply.started": "2021-04-08T20:23:16.070511Z"
    }
   },
   "outputs": [
    {
     "data": {
      "text/html": [
       "<table style=\"border: 2px solid white;\">\n",
       "<tr>\n",
       "<td style=\"vertical-align: top; border: 0px solid white\">\n",
       "<h3 style=\"text-align: left;\">Client</h3>\n",
       "<ul style=\"text-align: left; list-style: none; margin: 0; padding: 0;\">\n",
       "  <li><b>Scheduler: </b>tcp://d-aaron-getting-up-to-speed-wi-31ea6981b2f849c18e9b508d8d4cd002.main-namespace:8786</li>\n",
       "  <li><b>Dashboard: </b><a href='https://d-aaron-getting-up-to-speed-wi-31ea6981b2f849c18e9b508d8d4cd002.demo.saturnenterprise.io' target='_blank'>https://d-aaron-getting-up-to-speed-wi-31ea6981b2f849c18e9b508d8d4cd002.demo.saturnenterprise.io</a></li>\n",
       "</ul>\n",
       "</td>\n",
       "<td style=\"vertical-align: top; border: 0px solid white\">\n",
       "<h3 style=\"text-align: left;\">Cluster</h3>\n",
       "<ul style=\"text-align: left; list-style:none; margin: 0; padding: 0;\">\n",
       "  <li><b>Workers: </b>10</li>\n",
       "  <li><b>Cores: </b>80</li>\n",
       "  <li><b>Memory: </b>635.00 GB</li>\n",
       "</ul>\n",
       "</td>\n",
       "</tr>\n",
       "</table>"
      ],
      "text/plain": [
       "<Client: 'tcp://10.0.16.83:8786' processes=10 threads=80, memory=635.00 GB>"
      ]
     },
     "execution_count": 17,
     "metadata": {},
     "output_type": "execute_result"
    }
   ],
   "source": [
    "from dask.distributed import Client\n",
    "from dask_saturn import SaturnCluster\n",
    "\n",
    "cluster = SaturnCluster(n_workers=10, worker_size='2xlarge', scheduler_size='xlarge')\n",
    "client = Client(cluster)\n",
    "client"
   ]
  },
  {
   "cell_type": "code",
   "execution_count": 2,
   "metadata": {
    "execution": {
     "iopub.execute_input": "2021-04-08T20:21:26.323208Z",
     "iopub.status.busy": "2021-04-08T20:21:26.322961Z",
     "iopub.status.idle": "2021-04-08T20:21:26.818780Z",
     "shell.execute_reply": "2021-04-08T20:21:26.818120Z",
     "shell.execute_reply.started": "2021-04-08T20:21:26.323176Z"
    }
   },
   "outputs": [],
   "source": [
    "import pandas as pd\n",
    "import numpy as np\n",
    "import dask.dataframe as dd\n",
    "import datetime\n",
    "import s3fs\n",
    "\n",
    "seed = 42"
   ]
  },
  {
   "cell_type": "markdown",
   "metadata": {},
   "source": [
    "# Load and explore data\n",
    "\n",
    "The worker nodes are different machines, so they do not have the same `data` folder as the Jupyter server. This is good, because it would be expensive to shuttle the same data to all the nodes! Because of this, we will pull directly from S3."
   ]
  },
  {
   "cell_type": "code",
   "execution_count": 3,
   "metadata": {
    "execution": {
     "iopub.execute_input": "2021-04-08T20:21:26.820309Z",
     "iopub.status.busy": "2021-04-08T20:21:26.820065Z",
     "iopub.status.idle": "2021-04-08T20:21:26.827109Z",
     "shell.execute_reply": "2021-04-08T20:21:26.823526Z",
     "shell.execute_reply.started": "2021-04-08T20:21:26.820277Z"
    }
   },
   "outputs": [],
   "source": [
    "taxi_dtypes = {\n",
    "    'store_and_fwd_flag': str,\n",
    "    'RatecodeID': 'float64',\n",
    "    'VendorID': 'float64',\n",
    "    'passenger_count': 'float64',\n",
    "    'payment_type': 'float64',\n",
    "}"
   ]
  },
  {
   "cell_type": "code",
   "execution_count": 4,
   "metadata": {
    "execution": {
     "iopub.execute_input": "2021-04-08T20:21:26.828607Z",
     "iopub.status.busy": "2021-04-08T20:21:26.828253Z",
     "iopub.status.idle": "2021-04-08T20:21:27.127884Z",
     "shell.execute_reply": "2021-04-08T20:21:27.127278Z",
     "shell.execute_reply.started": "2021-04-08T20:21:26.828573Z"
    }
   },
   "outputs": [
    {
     "name": "stdout",
     "output_type": "stream",
     "text": [
      "CPU times: user 143 ms, sys: 21.9 ms, total: 165 ms\n",
      "Wall time: 293 ms\n"
     ]
    }
   ],
   "source": [
    "%%time\n",
    "\n",
    "taxi = dd.read_csv(\n",
    "    's3://nyc-tlc/trip data/yellow_tripdata_2019-*.csv',\n",
    "    dtype=taxi_dtypes, \n",
    "    parse_dates=['tpep_pickup_datetime', 'tpep_dropoff_datetime'],\n",
    "    storage_options={'anon': True},\n",
    ")"
   ]
  },
  {
   "cell_type": "code",
   "execution_count": 5,
   "metadata": {
    "execution": {
     "iopub.execute_input": "2021-04-08T20:21:27.520307Z",
     "iopub.status.busy": "2021-04-08T20:21:27.520084Z",
     "iopub.status.idle": "2021-04-08T20:21:44.111811Z",
     "shell.execute_reply": "2021-04-08T20:21:44.111070Z",
     "shell.execute_reply.started": "2021-04-08T20:21:27.520283Z"
    }
   },
   "outputs": [
    {
     "name": "stdout",
     "output_type": "stream",
     "text": [
      "CPU times: user 51.4 ms, sys: 5.35 ms, total: 56.8 ms\n",
      "Wall time: 16.6 s\n"
     ]
    },
    {
     "data": {
      "text/plain": [
       "84399019"
      ]
     },
     "execution_count": 5,
     "metadata": {},
     "output_type": "execute_result"
    }
   ],
   "source": [
    "%%time\n",
    "len(taxi)"
   ]
  },
  {
   "cell_type": "code",
   "execution_count": 6,
   "metadata": {
    "execution": {
     "iopub.execute_input": "2021-04-08T20:21:44.113465Z",
     "iopub.status.busy": "2021-04-08T20:21:44.113229Z",
     "iopub.status.idle": "2021-04-08T20:21:59.470760Z",
     "shell.execute_reply": "2021-04-08T20:21:59.470005Z",
     "shell.execute_reply.started": "2021-04-08T20:21:44.113434Z"
    }
   },
   "outputs": [
    {
     "name": "stdout",
     "output_type": "stream",
     "text": [
      "CPU times: user 73.4 ms, sys: 4.48 ms, total: 77.8 ms\n",
      "Wall time: 15.4 s\n"
     ]
    },
    {
     "data": {
      "text/plain": [
       "16.367014316"
      ]
     },
     "execution_count": 6,
     "metadata": {},
     "output_type": "execute_result"
    }
   ],
   "source": [
    "%%time\n",
    "taxi.memory_usage(deep=True).sum().compute() / 1e9"
   ]
  },
  {
   "cell_type": "code",
   "execution_count": 7,
   "metadata": {
    "execution": {
     "iopub.execute_input": "2021-04-08T20:21:59.544339Z",
     "iopub.status.busy": "2021-04-08T20:21:59.544129Z",
     "iopub.status.idle": "2021-04-08T20:22:26.371187Z",
     "shell.execute_reply": "2021-04-08T20:22:26.370496Z",
     "shell.execute_reply.started": "2021-04-08T20:21:59.544316Z"
    }
   },
   "outputs": [
    {
     "name": "stdout",
     "output_type": "stream",
     "text": [
      "CPU times: user 3.58 s, sys: 61.4 ms, total: 3.64 s\n",
      "Wall time: 26.8 s\n"
     ]
    },
    {
     "data": {
      "text/html": [
       "<div>\n",
       "<style scoped>\n",
       "    .dataframe tbody tr th:only-of-type {\n",
       "        vertical-align: middle;\n",
       "    }\n",
       "\n",
       "    .dataframe tbody tr th {\n",
       "        vertical-align: top;\n",
       "    }\n",
       "\n",
       "    .dataframe thead th {\n",
       "        text-align: right;\n",
       "    }\n",
       "</style>\n",
       "<table border=\"1\" class=\"dataframe\">\n",
       "  <thead>\n",
       "    <tr style=\"text-align: right;\">\n",
       "      <th></th>\n",
       "      <th>count</th>\n",
       "      <th>mean</th>\n",
       "      <th>std</th>\n",
       "      <th>min</th>\n",
       "      <th>25%</th>\n",
       "      <th>50%</th>\n",
       "      <th>75%</th>\n",
       "      <th>max</th>\n",
       "    </tr>\n",
       "  </thead>\n",
       "  <tbody>\n",
       "    <tr>\n",
       "      <th>VendorID</th>\n",
       "      <td>84152418.0</td>\n",
       "      <td>1.645</td>\n",
       "      <td>0.498</td>\n",
       "      <td>1.00</td>\n",
       "      <td>1.00</td>\n",
       "      <td>2.00</td>\n",
       "      <td>2.00</td>\n",
       "      <td>4.00</td>\n",
       "    </tr>\n",
       "    <tr>\n",
       "      <th>passenger_count</th>\n",
       "      <td>84152418.0</td>\n",
       "      <td>1.563</td>\n",
       "      <td>1.208</td>\n",
       "      <td>0.00</td>\n",
       "      <td>1.00</td>\n",
       "      <td>1.00</td>\n",
       "      <td>2.00</td>\n",
       "      <td>9.00</td>\n",
       "    </tr>\n",
       "    <tr>\n",
       "      <th>trip_distance</th>\n",
       "      <td>84399019.0</td>\n",
       "      <td>3.001</td>\n",
       "      <td>8.091</td>\n",
       "      <td>-37264.53</td>\n",
       "      <td>1.07</td>\n",
       "      <td>1.93</td>\n",
       "      <td>8.82</td>\n",
       "      <td>45977.22</td>\n",
       "    </tr>\n",
       "    <tr>\n",
       "      <th>RatecodeID</th>\n",
       "      <td>84152418.0</td>\n",
       "      <td>1.061</td>\n",
       "      <td>0.760</td>\n",
       "      <td>1.00</td>\n",
       "      <td>1.00</td>\n",
       "      <td>1.00</td>\n",
       "      <td>1.00</td>\n",
       "      <td>99.00</td>\n",
       "    </tr>\n",
       "    <tr>\n",
       "      <th>PULocationID</th>\n",
       "      <td>84399019.0</td>\n",
       "      <td>163.158</td>\n",
       "      <td>66.016</td>\n",
       "      <td>1.00</td>\n",
       "      <td>132.00</td>\n",
       "      <td>162.00</td>\n",
       "      <td>234.00</td>\n",
       "      <td>265.00</td>\n",
       "    </tr>\n",
       "    <tr>\n",
       "      <th>DOLocationID</th>\n",
       "      <td>84399019.0</td>\n",
       "      <td>161.353</td>\n",
       "      <td>70.251</td>\n",
       "      <td>1.00</td>\n",
       "      <td>116.00</td>\n",
       "      <td>163.00</td>\n",
       "      <td>236.00</td>\n",
       "      <td>265.00</td>\n",
       "    </tr>\n",
       "    <tr>\n",
       "      <th>payment_type</th>\n",
       "      <td>84152418.0</td>\n",
       "      <td>1.289</td>\n",
       "      <td>0.479</td>\n",
       "      <td>1.00</td>\n",
       "      <td>1.00</td>\n",
       "      <td>1.00</td>\n",
       "      <td>2.00</td>\n",
       "      <td>5.00</td>\n",
       "    </tr>\n",
       "    <tr>\n",
       "      <th>fare_amount</th>\n",
       "      <td>84399019.0</td>\n",
       "      <td>13.344</td>\n",
       "      <td>174.375</td>\n",
       "      <td>-1856.00</td>\n",
       "      <td>7.00</td>\n",
       "      <td>11.00</td>\n",
       "      <td>32.04</td>\n",
       "      <td>943274.80</td>\n",
       "    </tr>\n",
       "    <tr>\n",
       "      <th>extra</th>\n",
       "      <td>84399019.0</td>\n",
       "      <td>1.087</td>\n",
       "      <td>1.249</td>\n",
       "      <td>-60.00</td>\n",
       "      <td>0.00</td>\n",
       "      <td>1.00</td>\n",
       "      <td>3.00</td>\n",
       "      <td>535.38</td>\n",
       "    </tr>\n",
       "    <tr>\n",
       "      <th>mta_tax</th>\n",
       "      <td>84399019.0</td>\n",
       "      <td>0.495</td>\n",
       "      <td>0.067</td>\n",
       "      <td>-0.50</td>\n",
       "      <td>0.50</td>\n",
       "      <td>0.50</td>\n",
       "      <td>0.50</td>\n",
       "      <td>212.42</td>\n",
       "    </tr>\n",
       "    <tr>\n",
       "      <th>tip_amount</th>\n",
       "      <td>84399019.0</td>\n",
       "      <td>2.195</td>\n",
       "      <td>15.657</td>\n",
       "      <td>-221.00</td>\n",
       "      <td>0.00</td>\n",
       "      <td>2.06</td>\n",
       "      <td>3.26</td>\n",
       "      <td>141492.02</td>\n",
       "    </tr>\n",
       "    <tr>\n",
       "      <th>tolls_amount</th>\n",
       "      <td>84399019.0</td>\n",
       "      <td>0.383</td>\n",
       "      <td>1.817</td>\n",
       "      <td>-70.00</td>\n",
       "      <td>0.00</td>\n",
       "      <td>0.00</td>\n",
       "      <td>0.00</td>\n",
       "      <td>3288.00</td>\n",
       "    </tr>\n",
       "    <tr>\n",
       "      <th>improvement_surcharge</th>\n",
       "      <td>84399019.0</td>\n",
       "      <td>0.299</td>\n",
       "      <td>0.028</td>\n",
       "      <td>-0.30</td>\n",
       "      <td>0.30</td>\n",
       "      <td>0.30</td>\n",
       "      <td>0.30</td>\n",
       "      <td>1.00</td>\n",
       "    </tr>\n",
       "    <tr>\n",
       "      <th>total_amount</th>\n",
       "      <td>84399019.0</td>\n",
       "      <td>19.124</td>\n",
       "      <td>184.087</td>\n",
       "      <td>-1871.80</td>\n",
       "      <td>11.76</td>\n",
       "      <td>15.80</td>\n",
       "      <td>38.16</td>\n",
       "      <td>1084772.17</td>\n",
       "    </tr>\n",
       "    <tr>\n",
       "      <th>congestion_surcharge</th>\n",
       "      <td>79543038.0</td>\n",
       "      <td>2.188</td>\n",
       "      <td>0.837</td>\n",
       "      <td>-2.50</td>\n",
       "      <td>2.50</td>\n",
       "      <td>2.50</td>\n",
       "      <td>2.50</td>\n",
       "      <td>4.50</td>\n",
       "    </tr>\n",
       "  </tbody>\n",
       "</table>\n",
       "</div>"
      ],
      "text/plain": [
       "                            count     mean      std       min     25%     50%  \\\n",
       "VendorID               84152418.0    1.645    0.498      1.00    1.00    2.00   \n",
       "passenger_count        84152418.0    1.563    1.208      0.00    1.00    1.00   \n",
       "trip_distance          84399019.0    3.001    8.091 -37264.53    1.07    1.93   \n",
       "RatecodeID             84152418.0    1.061    0.760      1.00    1.00    1.00   \n",
       "PULocationID           84399019.0  163.158   66.016      1.00  132.00  162.00   \n",
       "DOLocationID           84399019.0  161.353   70.251      1.00  116.00  163.00   \n",
       "payment_type           84152418.0    1.289    0.479      1.00    1.00    1.00   \n",
       "fare_amount            84399019.0   13.344  174.375  -1856.00    7.00   11.00   \n",
       "extra                  84399019.0    1.087    1.249    -60.00    0.00    1.00   \n",
       "mta_tax                84399019.0    0.495    0.067     -0.50    0.50    0.50   \n",
       "tip_amount             84399019.0    2.195   15.657   -221.00    0.00    2.06   \n",
       "tolls_amount           84399019.0    0.383    1.817    -70.00    0.00    0.00   \n",
       "improvement_surcharge  84399019.0    0.299    0.028     -0.30    0.30    0.30   \n",
       "total_amount           84399019.0   19.124  184.087  -1871.80   11.76   15.80   \n",
       "congestion_surcharge   79543038.0    2.188    0.837     -2.50    2.50    2.50   \n",
       "\n",
       "                          75%         max  \n",
       "VendorID                 2.00        4.00  \n",
       "passenger_count          2.00        9.00  \n",
       "trip_distance            8.82    45977.22  \n",
       "RatecodeID               1.00       99.00  \n",
       "PULocationID           234.00      265.00  \n",
       "DOLocationID           236.00      265.00  \n",
       "payment_type             2.00        5.00  \n",
       "fare_amount             32.04   943274.80  \n",
       "extra                    3.00      535.38  \n",
       "mta_tax                  0.50      212.42  \n",
       "tip_amount               3.26   141492.02  \n",
       "tolls_amount             0.00     3288.00  \n",
       "improvement_surcharge    0.30        1.00  \n",
       "total_amount            38.16  1084772.17  \n",
       "congestion_surcharge     2.50        4.50  "
      ]
     },
     "execution_count": 7,
     "metadata": {},
     "output_type": "execute_result"
    }
   ],
   "source": [
    "%%time\n",
    "np.round(taxi.describe().compute(), 3).T"
   ]
  },
  {
   "cell_type": "markdown",
   "metadata": {},
   "source": [
    "# Feature engineering"
   ]
  },
  {
   "cell_type": "code",
   "execution_count": 8,
   "metadata": {
    "execution": {
     "iopub.execute_input": "2021-04-08T20:22:26.372955Z",
     "iopub.status.busy": "2021-04-08T20:22:26.372672Z",
     "iopub.status.idle": "2021-04-08T20:22:26.380266Z",
     "shell.execute_reply": "2021-04-08T20:22:26.379518Z",
     "shell.execute_reply.started": "2021-04-08T20:22:26.372919Z"
    }
   },
   "outputs": [],
   "source": [
    "def make_features(df):\n",
    "    \"\"\" Same code from Part 1 \"\"\"\n",
    "    df['pickup_weekday'] = df.tpep_pickup_datetime.dt.weekday\n",
    "    df['pickup_weekofyear'] = df.tpep_pickup_datetime.dt.isocalendar().week.astype(int)\n",
    "    df['pickup_hour'] = df.tpep_pickup_datetime.dt.hour\n",
    "    df['pickup_minute'] = df.tpep_pickup_datetime.dt.minute\n",
    "    df['pickup_year_seconds'] = (df.tpep_pickup_datetime - datetime.datetime(2019, 1, 1, 0, 0, 0)).dt.seconds\n",
    "    df['pickup_week_hour'] = (df.pickup_weekday * 24) + df.pickup_hour\n",
    "    df['store_and_fwd_flag'] = (df.store_and_fwd_flag == 'Y').astype(int)\n",
    "    df['VendorID'] = df.VendorID.fillna(-1)\n",
    "    df['RatecodeID'] = df.RatecodeID.fillna(-1)"
   ]
  },
  {
   "cell_type": "code",
   "execution_count": 9,
   "metadata": {
    "execution": {
     "iopub.execute_input": "2021-04-08T20:22:26.381773Z",
     "iopub.status.busy": "2021-04-08T20:22:26.381452Z",
     "iopub.status.idle": "2021-04-08T20:22:26.440153Z",
     "shell.execute_reply": "2021-04-08T20:22:26.439409Z",
     "shell.execute_reply.started": "2021-04-08T20:22:26.381664Z"
    }
   },
   "outputs": [
    {
     "name": "stdout",
     "output_type": "stream",
     "text": [
      "CPU times: user 53.4 ms, sys: 31 µs, total: 53.4 ms\n",
      "Wall time: 53.4 ms\n"
     ]
    }
   ],
   "source": [
    "%%time\n",
    "\n",
    "make_features(taxi)"
   ]
  },
  {
   "cell_type": "code",
   "execution_count": 10,
   "metadata": {
    "execution": {
     "iopub.execute_input": "2021-04-08T20:22:26.441640Z",
     "iopub.status.busy": "2021-04-08T20:22:26.441246Z",
     "iopub.status.idle": "2021-04-08T20:22:29.076843Z",
     "shell.execute_reply": "2021-04-08T20:22:29.076280Z",
     "shell.execute_reply.started": "2021-04-08T20:22:26.441605Z"
    }
   },
   "outputs": [
    {
     "name": "stdout",
     "output_type": "stream",
     "text": [
      "CPU times: user 15 ms, sys: 23 µs, total: 15 ms\n",
      "Wall time: 2.61 s\n"
     ]
    },
    {
     "data": {
      "text/html": [
       "<div>\n",
       "<style scoped>\n",
       "    .dataframe tbody tr th:only-of-type {\n",
       "        vertical-align: middle;\n",
       "    }\n",
       "\n",
       "    .dataframe tbody tr th {\n",
       "        vertical-align: top;\n",
       "    }\n",
       "\n",
       "    .dataframe thead th {\n",
       "        text-align: right;\n",
       "    }\n",
       "</style>\n",
       "<table border=\"1\" class=\"dataframe\">\n",
       "  <thead>\n",
       "    <tr style=\"text-align: right;\">\n",
       "      <th></th>\n",
       "      <th>VendorID</th>\n",
       "      <th>tpep_pickup_datetime</th>\n",
       "      <th>tpep_dropoff_datetime</th>\n",
       "      <th>passenger_count</th>\n",
       "      <th>trip_distance</th>\n",
       "      <th>RatecodeID</th>\n",
       "      <th>store_and_fwd_flag</th>\n",
       "      <th>PULocationID</th>\n",
       "      <th>DOLocationID</th>\n",
       "      <th>payment_type</th>\n",
       "      <th>...</th>\n",
       "      <th>tolls_amount</th>\n",
       "      <th>improvement_surcharge</th>\n",
       "      <th>total_amount</th>\n",
       "      <th>congestion_surcharge</th>\n",
       "      <th>pickup_weekday</th>\n",
       "      <th>pickup_weekofyear</th>\n",
       "      <th>pickup_hour</th>\n",
       "      <th>pickup_minute</th>\n",
       "      <th>pickup_year_seconds</th>\n",
       "      <th>pickup_week_hour</th>\n",
       "    </tr>\n",
       "  </thead>\n",
       "  <tbody>\n",
       "    <tr>\n",
       "      <th>0</th>\n",
       "      <td>1.0</td>\n",
       "      <td>2019-01-01 00:46:40</td>\n",
       "      <td>2019-01-01 00:53:20</td>\n",
       "      <td>1.0</td>\n",
       "      <td>1.5</td>\n",
       "      <td>1.0</td>\n",
       "      <td>0</td>\n",
       "      <td>151</td>\n",
       "      <td>239</td>\n",
       "      <td>1.0</td>\n",
       "      <td>...</td>\n",
       "      <td>0.0</td>\n",
       "      <td>0.3</td>\n",
       "      <td>9.95</td>\n",
       "      <td>NaN</td>\n",
       "      <td>1</td>\n",
       "      <td>1</td>\n",
       "      <td>0</td>\n",
       "      <td>46</td>\n",
       "      <td>2800</td>\n",
       "      <td>24</td>\n",
       "    </tr>\n",
       "    <tr>\n",
       "      <th>1</th>\n",
       "      <td>1.0</td>\n",
       "      <td>2019-01-01 00:59:47</td>\n",
       "      <td>2019-01-01 01:18:59</td>\n",
       "      <td>1.0</td>\n",
       "      <td>2.6</td>\n",
       "      <td>1.0</td>\n",
       "      <td>0</td>\n",
       "      <td>239</td>\n",
       "      <td>246</td>\n",
       "      <td>1.0</td>\n",
       "      <td>...</td>\n",
       "      <td>0.0</td>\n",
       "      <td>0.3</td>\n",
       "      <td>16.30</td>\n",
       "      <td>NaN</td>\n",
       "      <td>1</td>\n",
       "      <td>1</td>\n",
       "      <td>0</td>\n",
       "      <td>59</td>\n",
       "      <td>3587</td>\n",
       "      <td>24</td>\n",
       "    </tr>\n",
       "    <tr>\n",
       "      <th>2</th>\n",
       "      <td>2.0</td>\n",
       "      <td>2018-12-21 13:48:30</td>\n",
       "      <td>2018-12-21 13:52:40</td>\n",
       "      <td>3.0</td>\n",
       "      <td>0.0</td>\n",
       "      <td>1.0</td>\n",
       "      <td>0</td>\n",
       "      <td>236</td>\n",
       "      <td>236</td>\n",
       "      <td>1.0</td>\n",
       "      <td>...</td>\n",
       "      <td>0.0</td>\n",
       "      <td>0.3</td>\n",
       "      <td>5.80</td>\n",
       "      <td>NaN</td>\n",
       "      <td>4</td>\n",
       "      <td>51</td>\n",
       "      <td>13</td>\n",
       "      <td>48</td>\n",
       "      <td>49710</td>\n",
       "      <td>109</td>\n",
       "    </tr>\n",
       "    <tr>\n",
       "      <th>3</th>\n",
       "      <td>2.0</td>\n",
       "      <td>2018-11-28 15:52:25</td>\n",
       "      <td>2018-11-28 15:55:45</td>\n",
       "      <td>5.0</td>\n",
       "      <td>0.0</td>\n",
       "      <td>1.0</td>\n",
       "      <td>0</td>\n",
       "      <td>193</td>\n",
       "      <td>193</td>\n",
       "      <td>2.0</td>\n",
       "      <td>...</td>\n",
       "      <td>0.0</td>\n",
       "      <td>0.3</td>\n",
       "      <td>7.55</td>\n",
       "      <td>NaN</td>\n",
       "      <td>2</td>\n",
       "      <td>48</td>\n",
       "      <td>15</td>\n",
       "      <td>52</td>\n",
       "      <td>57145</td>\n",
       "      <td>63</td>\n",
       "    </tr>\n",
       "    <tr>\n",
       "      <th>4</th>\n",
       "      <td>2.0</td>\n",
       "      <td>2018-11-28 15:56:57</td>\n",
       "      <td>2018-11-28 15:58:33</td>\n",
       "      <td>5.0</td>\n",
       "      <td>0.0</td>\n",
       "      <td>2.0</td>\n",
       "      <td>0</td>\n",
       "      <td>193</td>\n",
       "      <td>193</td>\n",
       "      <td>2.0</td>\n",
       "      <td>...</td>\n",
       "      <td>0.0</td>\n",
       "      <td>0.3</td>\n",
       "      <td>55.55</td>\n",
       "      <td>NaN</td>\n",
       "      <td>2</td>\n",
       "      <td>48</td>\n",
       "      <td>15</td>\n",
       "      <td>56</td>\n",
       "      <td>57417</td>\n",
       "      <td>63</td>\n",
       "    </tr>\n",
       "  </tbody>\n",
       "</table>\n",
       "<p>5 rows × 24 columns</p>\n",
       "</div>"
      ],
      "text/plain": [
       "   VendorID tpep_pickup_datetime tpep_dropoff_datetime  passenger_count  \\\n",
       "0       1.0  2019-01-01 00:46:40   2019-01-01 00:53:20              1.0   \n",
       "1       1.0  2019-01-01 00:59:47   2019-01-01 01:18:59              1.0   \n",
       "2       2.0  2018-12-21 13:48:30   2018-12-21 13:52:40              3.0   \n",
       "3       2.0  2018-11-28 15:52:25   2018-11-28 15:55:45              5.0   \n",
       "4       2.0  2018-11-28 15:56:57   2018-11-28 15:58:33              5.0   \n",
       "\n",
       "   trip_distance  RatecodeID  store_and_fwd_flag  PULocationID  DOLocationID  \\\n",
       "0            1.5         1.0                   0           151           239   \n",
       "1            2.6         1.0                   0           239           246   \n",
       "2            0.0         1.0                   0           236           236   \n",
       "3            0.0         1.0                   0           193           193   \n",
       "4            0.0         2.0                   0           193           193   \n",
       "\n",
       "   payment_type  ...  tolls_amount  improvement_surcharge  total_amount  \\\n",
       "0           1.0  ...           0.0                    0.3          9.95   \n",
       "1           1.0  ...           0.0                    0.3         16.30   \n",
       "2           1.0  ...           0.0                    0.3          5.80   \n",
       "3           2.0  ...           0.0                    0.3          7.55   \n",
       "4           2.0  ...           0.0                    0.3         55.55   \n",
       "\n",
       "   congestion_surcharge  pickup_weekday  pickup_weekofyear  pickup_hour  \\\n",
       "0                   NaN               1                  1            0   \n",
       "1                   NaN               1                  1            0   \n",
       "2                   NaN               4                 51           13   \n",
       "3                   NaN               2                 48           15   \n",
       "4                   NaN               2                 48           15   \n",
       "\n",
       "   pickup_minute  pickup_year_seconds  pickup_week_hour  \n",
       "0             46                 2800                24  \n",
       "1             59                 3587                24  \n",
       "2             48                49710               109  \n",
       "3             52                57145                63  \n",
       "4             56                57417                63  \n",
       "\n",
       "[5 rows x 24 columns]"
      ]
     },
     "execution_count": 10,
     "metadata": {},
     "output_type": "execute_result"
    }
   ],
   "source": [
    "%%time\n",
    "\n",
    "taxi.head()"
   ]
  },
  {
   "cell_type": "markdown",
   "metadata": {},
   "source": [
    "<br>\n",
    "\n",
    "If you have the RAM, you can call `df.persist()` to avoid repeated CSV loading. This returns a [future](https://docs.dask.org/en/latest/futures.html) which continues to execute in the background until it's complete."
   ]
  },
  {
   "cell_type": "code",
   "execution_count": 11,
   "metadata": {
    "execution": {
     "iopub.execute_input": "2021-04-08T20:22:29.078194Z",
     "iopub.status.busy": "2021-04-08T20:22:29.077943Z",
     "iopub.status.idle": "2021-04-08T20:22:29.176147Z",
     "shell.execute_reply": "2021-04-08T20:22:29.175351Z",
     "shell.execute_reply.started": "2021-04-08T20:22:29.078160Z"
    }
   },
   "outputs": [],
   "source": [
    "taxi = taxi.persist()"
   ]
  },
  {
   "cell_type": "markdown",
   "metadata": {},
   "source": [
    "Can call `wait()` to block until the `persist()` is done."
   ]
  },
  {
   "cell_type": "code",
   "execution_count": 12,
   "metadata": {
    "execution": {
     "iopub.execute_input": "2021-04-08T20:22:29.322656Z",
     "iopub.status.busy": "2021-04-08T20:22:29.322437Z",
     "iopub.status.idle": "2021-04-08T20:22:45.513175Z",
     "shell.execute_reply": "2021-04-08T20:22:45.512436Z",
     "shell.execute_reply.started": "2021-04-08T20:22:29.322632Z"
    }
   },
   "outputs": [
    {
     "name": "stdout",
     "output_type": "stream",
     "text": [
      "CPU times: user 59.9 ms, sys: 3.46 ms, total: 63.4 ms\n",
      "Wall time: 16.2 s\n"
     ]
    }
   ],
   "source": [
    "%%time\n",
    "\n",
    "from dask.distributed import wait\n",
    "_ = wait(taxi)"
   ]
  },
  {
   "cell_type": "code",
   "execution_count": 13,
   "metadata": {
    "execution": {
     "iopub.execute_input": "2021-04-08T20:22:45.514689Z",
     "iopub.status.busy": "2021-04-08T20:22:45.514450Z",
     "iopub.status.idle": "2021-04-08T20:22:45.714521Z",
     "shell.execute_reply": "2021-04-08T20:22:45.713948Z",
     "shell.execute_reply.started": "2021-04-08T20:22:45.514656Z"
    }
   },
   "outputs": [
    {
     "name": "stdout",
     "output_type": "stream",
     "text": [
      "CPU times: user 85 ms, sys: 4.23 ms, total: 89.3 ms\n",
      "Wall time: 190 ms\n"
     ]
    },
    {
     "data": {
      "text/plain": [
       "84399019"
      ]
     },
     "execution_count": 13,
     "metadata": {},
     "output_type": "execute_result"
    }
   ],
   "source": [
    "%%time\n",
    "len(taxi)"
   ]
  },
  {
   "cell_type": "code",
   "execution_count": 14,
   "metadata": {
    "execution": {
     "iopub.execute_input": "2021-04-08T20:22:45.715901Z",
     "iopub.status.busy": "2021-04-08T20:22:45.715532Z",
     "iopub.status.idle": "2021-04-08T20:23:02.014552Z",
     "shell.execute_reply": "2021-04-08T20:23:02.013878Z",
     "shell.execute_reply.started": "2021-04-08T20:22:45.715867Z"
    }
   },
   "outputs": [
    {
     "name": "stdout",
     "output_type": "stream",
     "text": [
      "CPU times: user 4.95 s, sys: 79.1 ms, total: 5.03 s\n",
      "Wall time: 16.3 s\n"
     ]
    },
    {
     "data": {
      "text/html": [
       "<div>\n",
       "<style scoped>\n",
       "    .dataframe tbody tr th:only-of-type {\n",
       "        vertical-align: middle;\n",
       "    }\n",
       "\n",
       "    .dataframe tbody tr th {\n",
       "        vertical-align: top;\n",
       "    }\n",
       "\n",
       "    .dataframe thead th {\n",
       "        text-align: right;\n",
       "    }\n",
       "</style>\n",
       "<table border=\"1\" class=\"dataframe\">\n",
       "  <thead>\n",
       "    <tr style=\"text-align: right;\">\n",
       "      <th></th>\n",
       "      <th>count</th>\n",
       "      <th>mean</th>\n",
       "      <th>std</th>\n",
       "      <th>min</th>\n",
       "      <th>25%</th>\n",
       "      <th>50%</th>\n",
       "      <th>75%</th>\n",
       "      <th>max</th>\n",
       "    </tr>\n",
       "  </thead>\n",
       "  <tbody>\n",
       "    <tr>\n",
       "      <th>VendorID</th>\n",
       "      <td>84399019.0</td>\n",
       "      <td>1.638</td>\n",
       "      <td>0.517</td>\n",
       "      <td>-1.00</td>\n",
       "      <td>1.00</td>\n",
       "      <td>2.00</td>\n",
       "      <td>2.00</td>\n",
       "      <td>4.00</td>\n",
       "    </tr>\n",
       "    <tr>\n",
       "      <th>passenger_count</th>\n",
       "      <td>84152418.0</td>\n",
       "      <td>1.563</td>\n",
       "      <td>1.208</td>\n",
       "      <td>0.00</td>\n",
       "      <td>1.00</td>\n",
       "      <td>1.00</td>\n",
       "      <td>2.00</td>\n",
       "      <td>9.00</td>\n",
       "    </tr>\n",
       "    <tr>\n",
       "      <th>trip_distance</th>\n",
       "      <td>84399019.0</td>\n",
       "      <td>3.001</td>\n",
       "      <td>8.091</td>\n",
       "      <td>-37264.53</td>\n",
       "      <td>1.07</td>\n",
       "      <td>1.93</td>\n",
       "      <td>8.82</td>\n",
       "      <td>45977.22</td>\n",
       "    </tr>\n",
       "    <tr>\n",
       "      <th>RatecodeID</th>\n",
       "      <td>84399019.0</td>\n",
       "      <td>1.055</td>\n",
       "      <td>0.767</td>\n",
       "      <td>-1.00</td>\n",
       "      <td>1.00</td>\n",
       "      <td>1.00</td>\n",
       "      <td>1.00</td>\n",
       "      <td>99.00</td>\n",
       "    </tr>\n",
       "    <tr>\n",
       "      <th>store_and_fwd_flag</th>\n",
       "      <td>84399019.0</td>\n",
       "      <td>0.008</td>\n",
       "      <td>0.090</td>\n",
       "      <td>0.00</td>\n",
       "      <td>0.00</td>\n",
       "      <td>0.00</td>\n",
       "      <td>0.00</td>\n",
       "      <td>1.00</td>\n",
       "    </tr>\n",
       "    <tr>\n",
       "      <th>PULocationID</th>\n",
       "      <td>84399019.0</td>\n",
       "      <td>163.158</td>\n",
       "      <td>66.016</td>\n",
       "      <td>1.00</td>\n",
       "      <td>132.00</td>\n",
       "      <td>162.00</td>\n",
       "      <td>234.00</td>\n",
       "      <td>265.00</td>\n",
       "    </tr>\n",
       "    <tr>\n",
       "      <th>DOLocationID</th>\n",
       "      <td>84399019.0</td>\n",
       "      <td>161.353</td>\n",
       "      <td>70.251</td>\n",
       "      <td>1.00</td>\n",
       "      <td>116.00</td>\n",
       "      <td>163.00</td>\n",
       "      <td>236.00</td>\n",
       "      <td>265.00</td>\n",
       "    </tr>\n",
       "    <tr>\n",
       "      <th>payment_type</th>\n",
       "      <td>84152418.0</td>\n",
       "      <td>1.289</td>\n",
       "      <td>0.479</td>\n",
       "      <td>1.00</td>\n",
       "      <td>1.00</td>\n",
       "      <td>1.00</td>\n",
       "      <td>2.00</td>\n",
       "      <td>5.00</td>\n",
       "    </tr>\n",
       "    <tr>\n",
       "      <th>fare_amount</th>\n",
       "      <td>84399019.0</td>\n",
       "      <td>13.344</td>\n",
       "      <td>174.375</td>\n",
       "      <td>-1856.00</td>\n",
       "      <td>7.00</td>\n",
       "      <td>11.00</td>\n",
       "      <td>32.04</td>\n",
       "      <td>943274.80</td>\n",
       "    </tr>\n",
       "    <tr>\n",
       "      <th>extra</th>\n",
       "      <td>84399019.0</td>\n",
       "      <td>1.087</td>\n",
       "      <td>1.249</td>\n",
       "      <td>-60.00</td>\n",
       "      <td>0.00</td>\n",
       "      <td>1.00</td>\n",
       "      <td>3.00</td>\n",
       "      <td>535.38</td>\n",
       "    </tr>\n",
       "    <tr>\n",
       "      <th>mta_tax</th>\n",
       "      <td>84399019.0</td>\n",
       "      <td>0.495</td>\n",
       "      <td>0.067</td>\n",
       "      <td>-0.50</td>\n",
       "      <td>0.50</td>\n",
       "      <td>0.50</td>\n",
       "      <td>0.50</td>\n",
       "      <td>212.42</td>\n",
       "    </tr>\n",
       "    <tr>\n",
       "      <th>tip_amount</th>\n",
       "      <td>84399019.0</td>\n",
       "      <td>2.195</td>\n",
       "      <td>15.657</td>\n",
       "      <td>-221.00</td>\n",
       "      <td>0.00</td>\n",
       "      <td>2.06</td>\n",
       "      <td>3.26</td>\n",
       "      <td>141492.02</td>\n",
       "    </tr>\n",
       "    <tr>\n",
       "      <th>tolls_amount</th>\n",
       "      <td>84399019.0</td>\n",
       "      <td>0.383</td>\n",
       "      <td>1.817</td>\n",
       "      <td>-70.00</td>\n",
       "      <td>0.00</td>\n",
       "      <td>0.00</td>\n",
       "      <td>0.00</td>\n",
       "      <td>3288.00</td>\n",
       "    </tr>\n",
       "    <tr>\n",
       "      <th>improvement_surcharge</th>\n",
       "      <td>84399019.0</td>\n",
       "      <td>0.299</td>\n",
       "      <td>0.028</td>\n",
       "      <td>-0.30</td>\n",
       "      <td>0.30</td>\n",
       "      <td>0.30</td>\n",
       "      <td>0.30</td>\n",
       "      <td>1.00</td>\n",
       "    </tr>\n",
       "    <tr>\n",
       "      <th>total_amount</th>\n",
       "      <td>84399019.0</td>\n",
       "      <td>19.124</td>\n",
       "      <td>184.087</td>\n",
       "      <td>-1871.80</td>\n",
       "      <td>11.76</td>\n",
       "      <td>15.80</td>\n",
       "      <td>38.16</td>\n",
       "      <td>1084772.17</td>\n",
       "    </tr>\n",
       "    <tr>\n",
       "      <th>congestion_surcharge</th>\n",
       "      <td>79543038.0</td>\n",
       "      <td>2.188</td>\n",
       "      <td>0.837</td>\n",
       "      <td>-2.50</td>\n",
       "      <td>2.50</td>\n",
       "      <td>2.50</td>\n",
       "      <td>2.50</td>\n",
       "      <td>4.50</td>\n",
       "    </tr>\n",
       "    <tr>\n",
       "      <th>pickup_weekday</th>\n",
       "      <td>84399019.0</td>\n",
       "      <td>2.978</td>\n",
       "      <td>1.933</td>\n",
       "      <td>0.00</td>\n",
       "      <td>2.00</td>\n",
       "      <td>4.00</td>\n",
       "      <td>6.00</td>\n",
       "      <td>6.00</td>\n",
       "    </tr>\n",
       "    <tr>\n",
       "      <th>pickup_weekofyear</th>\n",
       "      <td>84399019.0</td>\n",
       "      <td>25.762</td>\n",
       "      <td>15.179</td>\n",
       "      <td>1.00</td>\n",
       "      <td>14.00</td>\n",
       "      <td>27.00</td>\n",
       "      <td>42.00</td>\n",
       "      <td>52.00</td>\n",
       "    </tr>\n",
       "    <tr>\n",
       "      <th>pickup_hour</th>\n",
       "      <td>84399019.0</td>\n",
       "      <td>13.888</td>\n",
       "      <td>6.023</td>\n",
       "      <td>0.00</td>\n",
       "      <td>12.00</td>\n",
       "      <td>16.00</td>\n",
       "      <td>22.00</td>\n",
       "      <td>23.00</td>\n",
       "    </tr>\n",
       "    <tr>\n",
       "      <th>pickup_minute</th>\n",
       "      <td>84399019.0</td>\n",
       "      <td>29.564</td>\n",
       "      <td>17.340</td>\n",
       "      <td>0.00</td>\n",
       "      <td>15.00</td>\n",
       "      <td>30.00</td>\n",
       "      <td>45.00</td>\n",
       "      <td>59.00</td>\n",
       "    </tr>\n",
       "    <tr>\n",
       "      <th>pickup_year_seconds</th>\n",
       "      <td>84399019.0</td>\n",
       "      <td>51801.640</td>\n",
       "      <td>21696.780</td>\n",
       "      <td>0.00</td>\n",
       "      <td>43864.00</td>\n",
       "      <td>60496.00</td>\n",
       "      <td>81380.00</td>\n",
       "      <td>86399.00</td>\n",
       "    </tr>\n",
       "    <tr>\n",
       "      <th>pickup_week_hour</th>\n",
       "      <td>84399019.0</td>\n",
       "      <td>85.354</td>\n",
       "      <td>46.357</td>\n",
       "      <td>0.00</td>\n",
       "      <td>62.00</td>\n",
       "      <td>109.00</td>\n",
       "      <td>146.00</td>\n",
       "      <td>167.00</td>\n",
       "    </tr>\n",
       "  </tbody>\n",
       "</table>\n",
       "</div>"
      ],
      "text/plain": [
       "                            count       mean        std       min       25%  \\\n",
       "VendorID               84399019.0      1.638      0.517     -1.00      1.00   \n",
       "passenger_count        84152418.0      1.563      1.208      0.00      1.00   \n",
       "trip_distance          84399019.0      3.001      8.091 -37264.53      1.07   \n",
       "RatecodeID             84399019.0      1.055      0.767     -1.00      1.00   \n",
       "store_and_fwd_flag     84399019.0      0.008      0.090      0.00      0.00   \n",
       "PULocationID           84399019.0    163.158     66.016      1.00    132.00   \n",
       "DOLocationID           84399019.0    161.353     70.251      1.00    116.00   \n",
       "payment_type           84152418.0      1.289      0.479      1.00      1.00   \n",
       "fare_amount            84399019.0     13.344    174.375  -1856.00      7.00   \n",
       "extra                  84399019.0      1.087      1.249    -60.00      0.00   \n",
       "mta_tax                84399019.0      0.495      0.067     -0.50      0.50   \n",
       "tip_amount             84399019.0      2.195     15.657   -221.00      0.00   \n",
       "tolls_amount           84399019.0      0.383      1.817    -70.00      0.00   \n",
       "improvement_surcharge  84399019.0      0.299      0.028     -0.30      0.30   \n",
       "total_amount           84399019.0     19.124    184.087  -1871.80     11.76   \n",
       "congestion_surcharge   79543038.0      2.188      0.837     -2.50      2.50   \n",
       "pickup_weekday         84399019.0      2.978      1.933      0.00      2.00   \n",
       "pickup_weekofyear      84399019.0     25.762     15.179      1.00     14.00   \n",
       "pickup_hour            84399019.0     13.888      6.023      0.00     12.00   \n",
       "pickup_minute          84399019.0     29.564     17.340      0.00     15.00   \n",
       "pickup_year_seconds    84399019.0  51801.640  21696.780      0.00  43864.00   \n",
       "pickup_week_hour       84399019.0     85.354     46.357      0.00     62.00   \n",
       "\n",
       "                            50%       75%         max  \n",
       "VendorID                   2.00      2.00        4.00  \n",
       "passenger_count            1.00      2.00        9.00  \n",
       "trip_distance              1.93      8.82    45977.22  \n",
       "RatecodeID                 1.00      1.00       99.00  \n",
       "store_and_fwd_flag         0.00      0.00        1.00  \n",
       "PULocationID             162.00    234.00      265.00  \n",
       "DOLocationID             163.00    236.00      265.00  \n",
       "payment_type               1.00      2.00        5.00  \n",
       "fare_amount               11.00     32.04   943274.80  \n",
       "extra                      1.00      3.00      535.38  \n",
       "mta_tax                    0.50      0.50      212.42  \n",
       "tip_amount                 2.06      3.26   141492.02  \n",
       "tolls_amount               0.00      0.00     3288.00  \n",
       "improvement_surcharge      0.30      0.30        1.00  \n",
       "total_amount              15.80     38.16  1084772.17  \n",
       "congestion_surcharge       2.50      2.50        4.50  \n",
       "pickup_weekday             4.00      6.00        6.00  \n",
       "pickup_weekofyear         27.00     42.00       52.00  \n",
       "pickup_hour               16.00     22.00       23.00  \n",
       "pickup_minute             30.00     45.00       59.00  \n",
       "pickup_year_seconds    60496.00  81380.00    86399.00  \n",
       "pickup_week_hour         109.00    146.00      167.00  "
      ]
     },
     "execution_count": 14,
     "metadata": {},
     "output_type": "execute_result"
    }
   ],
   "source": [
    "%%time\n",
    "np.round(taxi.describe().compute(), 3).T"
   ]
  },
  {
   "cell_type": "markdown",
   "metadata": {},
   "source": [
    "# Machine learning"
   ]
  },
  {
   "cell_type": "code",
   "execution_count": 15,
   "metadata": {
    "execution": {
     "iopub.execute_input": "2021-04-08T20:23:02.015945Z",
     "iopub.status.busy": "2021-04-08T20:23:02.015686Z",
     "iopub.status.idle": "2021-04-08T20:23:02.020265Z",
     "shell.execute_reply": "2021-04-08T20:23:02.019594Z",
     "shell.execute_reply.started": "2021-04-08T20:23:02.015910Z"
    }
   },
   "outputs": [],
   "source": [
    "# same as Part 1\n",
    "numeric_feat = [\n",
    "    'pickup_weekday', \n",
    "    'pickup_weekofyear', \n",
    "    'pickup_hour', \n",
    "    'pickup_minute', \n",
    "    'pickup_year_seconds',\n",
    "    'pickup_week_hour', \n",
    "    'passenger_count',\n",
    "]\n",
    "categorical_feat = [\n",
    "    'VendorID', \n",
    "    'RatecodeID', \n",
    "    'store_and_fwd_flag',\n",
    "    'PULocationID',\n",
    "    'DOLocationID',\n",
    "]\n",
    "features = numeric_feat + categorical_feat\n",
    "y_col = 'total_amount'"
   ]
  },
  {
   "cell_type": "code",
   "execution_count": 18,
   "metadata": {
    "execution": {
     "iopub.execute_input": "2021-04-08T20:23:23.409905Z",
     "iopub.status.busy": "2021-04-08T20:23:23.409584Z",
     "iopub.status.idle": "2021-04-08T20:23:23.425169Z",
     "shell.execute_reply": "2021-04-08T20:23:23.424626Z",
     "shell.execute_reply.started": "2021-04-08T20:23:23.409866Z"
    }
   },
   "outputs": [],
   "source": [
    "# note the dask_ml imports rather than sklearn\n",
    "from dask_ml.model_selection import train_test_split\n",
    "from dask_ml.metrics import mean_squared_error\n",
    "from xgboost.dask import DaskXGBRegressor"
   ]
  },
  {
   "cell_type": "code",
   "execution_count": 19,
   "metadata": {
    "execution": {
     "iopub.execute_input": "2021-04-08T20:23:24.494458Z",
     "iopub.status.busy": "2021-04-08T20:23:24.494165Z",
     "iopub.status.idle": "2021-04-08T20:23:24.506920Z",
     "shell.execute_reply": "2021-04-08T20:23:24.506147Z",
     "shell.execute_reply.started": "2021-04-08T20:23:24.494431Z"
    }
   },
   "outputs": [
    {
     "name": "stdout",
     "output_type": "stream",
     "text": [
      "CPU times: user 8.96 ms, sys: 39 µs, total: 9 ms\n",
      "Wall time: 8.67 ms\n"
     ]
    }
   ],
   "source": [
    "%%time\n",
    "\n",
    "X_train, X_test, y_train, y_test = train_test_split(\n",
    "    taxi[features], taxi[y_col], test_size=0.33, random_state=seed, shuffle=True)"
   ]
  },
  {
   "cell_type": "code",
   "execution_count": 20,
   "metadata": {
    "execution": {
     "iopub.execute_input": "2021-04-08T20:23:30.190945Z",
     "iopub.status.busy": "2021-04-08T20:23:30.190694Z",
     "iopub.status.idle": "2021-04-08T20:23:32.588428Z",
     "shell.execute_reply": "2021-04-08T20:23:32.587804Z",
     "shell.execute_reply.started": "2021-04-08T20:23:30.190918Z"
    }
   },
   "outputs": [],
   "source": [
    "X_train = X_train.persist()\n",
    "y_train = y_train.persist()\n",
    "_ = wait(X_train)"
   ]
  },
  {
   "cell_type": "code",
   "execution_count": 21,
   "metadata": {
    "execution": {
     "iopub.execute_input": "2021-04-08T20:23:34.045793Z",
     "iopub.status.busy": "2021-04-08T20:23:34.045537Z",
     "iopub.status.idle": "2021-04-08T20:23:34.049145Z",
     "shell.execute_reply": "2021-04-08T20:23:34.048431Z",
     "shell.execute_reply.started": "2021-04-08T20:23:34.045767Z"
    }
   },
   "outputs": [],
   "source": [
    "xgb = DaskXGBRegressor(\n",
    "    n_estimators=10, \n",
    "    max_depth=3, \n",
    "    learning_rate=0.1, \n",
    "    random_state=seed, \n",
    ")"
   ]
  },
  {
   "cell_type": "code",
   "execution_count": 22,
   "metadata": {
    "execution": {
     "iopub.execute_input": "2021-04-08T20:23:35.333702Z",
     "iopub.status.busy": "2021-04-08T20:23:35.333464Z",
     "iopub.status.idle": "2021-04-08T20:24:03.117656Z",
     "shell.execute_reply": "2021-04-08T20:24:03.116989Z",
     "shell.execute_reply.started": "2021-04-08T20:23:35.333676Z"
    }
   },
   "outputs": [
    {
     "name": "stdout",
     "output_type": "stream",
     "text": [
      "CPU times: user 149 ms, sys: 164 µs, total: 149 ms\n",
      "Wall time: 27.8 s\n"
     ]
    }
   ],
   "source": [
    "%%time\n",
    "\n",
    "_ = xgb.fit(X_train, y_train)"
   ]
  },
  {
   "cell_type": "code",
   "execution_count": 24,
   "metadata": {
    "execution": {
     "iopub.execute_input": "2021-04-08T20:24:40.644247Z",
     "iopub.status.busy": "2021-04-08T20:24:40.644011Z",
     "iopub.status.idle": "2021-04-08T20:24:45.168547Z",
     "shell.execute_reply": "2021-04-08T20:24:45.167989Z",
     "shell.execute_reply.started": "2021-04-08T20:24:40.644220Z"
    }
   },
   "outputs": [
    {
     "name": "stdout",
     "output_type": "stream",
     "text": [
      "CPU times: user 399 ms, sys: 154 ms, total: 553 ms\n",
      "Wall time: 4.52 s\n"
     ]
    },
    {
     "data": {
      "text/plain": [
       "145.07297131491882"
      ]
     },
     "execution_count": 24,
     "metadata": {},
     "output_type": "execute_result"
    }
   ],
   "source": [
    "%%time\n",
    "\n",
    "# get test RMSE\n",
    "preds = xgb.predict(X_test)\n",
    "y_test_arr = y_test.to_dask_array(lengths=True)\n",
    "mean_squared_error(preds, y_test_arr, squared=False)"
   ]
  }
 ],
 "metadata": {
  "kernelspec": {
   "display_name": "saturn (Python 3)",
   "language": "python",
   "name": "python3"
  },
  "language_info": {
   "codemirror_mode": {
    "name": "ipython",
    "version": 3
   },
   "file_extension": ".py",
   "mimetype": "text/x-python",
   "name": "python",
   "nbconvert_exporter": "python",
   "pygments_lexer": "ipython3",
   "version": "3.7.10"
  }
 },
 "nbformat": 4,
 "nbformat_minor": 4
}
